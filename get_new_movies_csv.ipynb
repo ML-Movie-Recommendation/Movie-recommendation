{
 "cells": [
  {
   "cell_type": "code",
   "execution_count": 135,
   "metadata": {},
   "outputs": [],
   "source": [
    "import pandas as pd\n",
    "import numpy as np\n",
    "import csv"
   ]
  },
  {
   "cell_type": "code",
   "execution_count": 140,
   "metadata": {},
   "outputs": [],
   "source": [
    "data = pd.read_csv('resources/movies.csv')\n",
    "# data"
   ]
  },
  {
   "cell_type": "code",
   "execution_count": 138,
   "metadata": {},
   "outputs": [],
   "source": [
    "genres = data['genres'].tolist()\n",
    "list_ = []\n",
    "for g in genres:\n",
    "    list_.append(g.split(\"|\"))\n",
    "# list_"
   ]
  },
  {
   "cell_type": "code",
   "execution_count": 127,
   "metadata": {},
   "outputs": [],
   "source": [
    "list_genres = [i for item in list_ for i in item]\n",
    "# list_genres"
   ]
  },
  {
   "cell_type": "code",
   "execution_count": 128,
   "metadata": {
    "collapsed": true
   },
   "outputs": [],
   "source": [
    "set_g = set(list_genres)\n",
    "# set_g"
   ]
  },
  {
   "cell_type": "code",
   "execution_count": 129,
   "metadata": {
    "scrolled": true
   },
   "outputs": [],
   "source": [
    "new_genres = [i for i in set_g]\n",
    "# new_genres"
   ]
  },
  {
   "cell_type": "code",
   "execution_count": 130,
   "metadata": {
    "collapsed": true
   },
   "outputs": [],
   "source": [
    "# data['genres']"
   ]
  },
  {
   "cell_type": "code",
   "execution_count": 15,
   "metadata": {},
   "outputs": [],
   "source": [
    "#['Children','Animation','Crime','(no genres listed)','Adventure','Documentary','Film-Noir','IMAX','Mystery',\n",
    "# 'Sci-Fi','Western','Musical','Romance','Thriller','Horror','Fantasy','Action','Comedy','War','Drama']\n",
    "\n",
    "def creat_list_column(column_name):\n",
    "    column_content = []\n",
    "    for type_names in data['genres']:\n",
    "        if column_name in type_names :\n",
    "            column_content.append(\"1\")  \n",
    "        else:\n",
    "            column_content.append(\"0\") \n",
    "    return column_content\n"
   ]
  },
  {
   "cell_type": "code",
   "execution_count": 16,
   "metadata": {},
   "outputs": [],
   "source": [
    "for i in range(20):\n",
    "    data[new_genres[i]] = creat_list_column(new_genres[i])"
   ]
  },
  {
   "cell_type": "code",
   "execution_count": 17,
   "metadata": {},
   "outputs": [],
   "source": [
    "del data['genres']\n",
    "data.to_csv('resources/new_movies.csv')"
   ]
  },
  {
   "cell_type": "code",
   "execution_count": 139,
   "metadata": {
    "tags": []
   },
   "outputs": [
    {
     "output_type": "stream",
     "name": "stdout",
     "text": [
      "9742\n"
     ]
    }
   ],
   "source": [
    "new_movies = pd.read_csv('resources/new_movies.csv')\n",
    "del new_movies['Unnamed: 0']\n",
    "del new_movies['movieId']\n",
    "del new_movies['title']\n",
    "# new_movies\n",
    "list_1=np.array(new_movies).tolist()\n",
    "print(len(list_1))\n",
    "#print(list_1)\n",
    "# for indexs in new_movies.index:\n",
    "#         rowData = new_movies.loc[indexs].values[0:20]\n",
    "#         rowData = rowData.tolist()\n",
    "#         print(rowData)"
   ]
  },
  {
   "cell_type": "code",
   "execution_count": 125,
   "metadata": {
    "tags": []
   },
   "outputs": [
    {
     "output_type": "stream",
     "name": "stdout",
     "text": [
      "Cosine similarity:(The bigger the better)\n",
      "[0.7071067811865475, 0.7071067811865475, 0.7071067811865475, 0.7071067811865475, 0.7071067811865475]\n"
     ]
    }
   ],
   "source": [
    "# 余弦相似度\n",
    "from sklearn.metrics.pairwise import cosine_similarity\n",
    "# 用户输入的list\n",
    "list_input=[0, 0, 0, 1, 0, 0, 0, 0, 1, 0, 0, 0, 0, 0, 0, 1, 0, 0, 0, 1]\n",
    "print(\"Cosine similarity:(The bigger the better)\")\n",
    "list_max=[]\n",
    "for z in list_1:\n",
    "    a = cosine_similarity([list_input], [z])\n",
    "    b =float(a)\n",
    "    if b > 0.7:\n",
    "        list_max.append(b)\n",
    "print(list_max[0:5])\n",
    "        "
   ]
  },
  {
   "cell_type": "code",
   "execution_count": null,
   "metadata": {},
   "outputs": [],
   "source": []
  }
 ],
 "metadata": {
  "kernelspec": {
   "display_name": "Python 3",
   "language": "python",
   "name": "python3"
  },
  "language_info": {
   "codemirror_mode": {
    "name": "ipython",
    "version": 3
   },
   "file_extension": ".py",
   "mimetype": "text/x-python",
   "name": "python",
   "nbconvert_exporter": "python",
   "pygments_lexer": "ipython3",
   "version": "3.8.3-final"
  }
 },
 "nbformat": 4,
 "nbformat_minor": 4
}